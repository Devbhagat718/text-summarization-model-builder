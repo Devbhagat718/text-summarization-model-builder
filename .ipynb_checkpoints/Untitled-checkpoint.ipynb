{
 "cells": [
  {
   "cell_type": "markdown",
   "id": "c08269e5-fac8-4ab4-b75a-2128bd2a4dc1",
   "metadata": {},
   "source": [
    "### Subsetting the Data"
   ]
  },
  {
   "cell_type": "code",
   "execution_count": 14,
   "id": "974da239-deb7-47b2-ac70-fa0a5d03715a",
   "metadata": {},
   "outputs": [
    {
     "name": "stdout",
     "output_type": "stream",
     "text": [
      "Subset of 6000 rows saved to 'subset_data.csv'\n"
     ]
    }
   ],
   "source": [
    "import pandas as pd\n",
    "\n",
    "# Step 1: Load the large dataset\n",
    "file_path = \"train.csv\"  # Update to the correct path of your dataset\n",
    "data = pd.read_csv(file_path)\n",
    "\n",
    "# Step 2: Extract a subset (e.g., 5000 rows)\n",
    "subset_size = 6000  # Change this to use a different number of rows\n",
    "subset_data = data.sample(n=subset_size, random_state=42)  # Randomly select rows\n",
    "\n",
    "# Step 3: Save the subset to a new CSV file\n",
    "subset_file_path = \"subset_data.csv\"\n",
    "subset_data.to_csv(subset_file_path, index=False)\n",
    "\n",
    "print(f\"Subset of {subset_size} rows saved to '{subset_file_path}'\")"
   ]
  },
  {
   "cell_type": "markdown",
   "id": "eab1fdfd-ba55-4d87-9f13-47635e37659b",
   "metadata": {},
   "source": [
    "### Data Cleaning and Preprocessing"
   ]
  },
  {
   "cell_type": "code",
   "execution_count": 15,
   "id": "6a979b93-752c-4b9f-970d-483bc3a957c3",
   "metadata": {},
   "outputs": [
    {
     "name": "stdout",
     "output_type": "stream",
     "text": [
      "Before Cleaning:\n",
      "id            0\n",
      "article       0\n",
      "highlights    0\n",
      "dtype: int64\n"
     ]
    }
   ],
   "source": [
    "import pandas as pd\n",
    "import re\n",
    "\n",
    "data = pd.read_csv(\"subset_data.csv\")\n",
    "\n",
    "# Check for missing values and drop them\n",
    "print(\"Before Cleaning:\")\n",
    "print(data.isnull().sum())\n",
    "\n",
    "# Drop rows with missing values in 'article' or 'highlights'\n",
    "data = data.dropna(subset=[\"article\", \"highlights\"])"
   ]
  },
  {
   "cell_type": "code",
   "execution_count": 16,
   "id": "12493354-5abf-42d2-a787-29963ec69805",
   "metadata": {},
   "outputs": [],
   "source": [
    "# Remove duplicates\n",
    "data = data.drop_duplicates()"
   ]
  },
  {
   "cell_type": "code",
   "execution_count": 22,
   "id": "bb48d000-fa20-4784-bb79-354e92c0f248",
   "metadata": {},
   "outputs": [
    {
     "data": {
      "text/plain": [
       "(6000, 5)"
      ]
     },
     "execution_count": 22,
     "metadata": {},
     "output_type": "execute_result"
    }
   ],
   "source": [
    "data.shape"
   ]
  },
  {
   "cell_type": "code",
   "execution_count": 18,
   "id": "209c5e1b-42eb-40a1-88b5-1d2fa4f01785",
   "metadata": {},
   "outputs": [
    {
     "name": "stdout",
     "output_type": "stream",
     "text": [
      "\n",
      "After Cleaning:\n",
      "id            0\n",
      "article       0\n",
      "highlights    0\n",
      "dtype: int64\n",
      "Cleaned data saved to 'cleaned_subset_data.csv'\n"
     ]
    }
   ],
   "source": [
    "# Text cleaning function\n",
    "def clean_text(text):\n",
    "    text = re.sub(r'\\s+', ' ', text)  # Remove extra spaces\n",
    "    text = re.sub(r'[^\\w\\s]', '', text)  # Remove special characters\n",
    "    return text.strip()\n",
    "\n",
    "data[\"article\"] = data[\"article\"].apply(clean_text)\n",
    "data[\"highlights\"] = data[\"highlights\"].apply(clean_text)\n",
    "\n",
    "print(\"\\nAfter Cleaning:\")\n",
    "print(data.isnull().sum())\n",
    "\n",
    "# Save the cleaned data\n",
    "data.to_csv(\"cleaned_subset_data.csv\", index=False)\n",
    "print(\"Cleaned data saved to 'cleaned_subset_data.csv'\")"
   ]
  },
  {
   "cell_type": "code",
   "execution_count": 19,
   "id": "70703f85-1356-4ab3-9dfb-c95866cc588d",
   "metadata": {},
   "outputs": [
    {
     "data": {
      "text/plain": [
       "<Figure size 1000x500 with 0 Axes>"
      ]
     },
     "execution_count": 19,
     "metadata": {},
     "output_type": "execute_result"
    },
    {
     "data": {
      "text/plain": [
       "<Figure size 1000x500 with 0 Axes>"
      ]
     },
     "metadata": {},
     "output_type": "display_data"
    }
   ],
   "source": [
    "import matplotlib.pyplot as plt\n",
    "\n",
    "# Load cleaned data\n",
    "data = pd.read_csv(\"cleaned_subset_data.csv\")\n",
    "\n",
    "# Calculate text lengths\n",
    "data['article_length'] = data['article'].apply(len)\n",
    "data['highlights_length'] = data['highlights'].apply(len)\n",
    "\n",
    "# Plot distributions\n",
    "plt.figure(figsize=(10, 5))"
   ]
  },
  {
   "cell_type": "code",
   "execution_count": 20,
   "id": "ec253c79-3b87-45d2-9b87-9295aee5a43e",
   "metadata": {},
   "outputs": [
    {
     "data": {
      "image/png": "[encoded data removed]",
      "text/plain": [
       "<Figure size 640x480 with 2 Axes>"
      ]
     },
     "metadata": {},
     "output_type": "display_data"
    }
   ],
   "source": [
    "# Article Length Distribution\n",
    "plt.subplot(1, 2, 1)\n",
    "plt.hist(data['article_length'], bins=50, color='skyblue', alpha=0.7)\n",
    "plt.title(\"Article Length Distribution\")\n",
    "plt.xlabel(\"Length\")\n",
    "plt.ylabel(\"Frequency\")\n",
    "\n",
    "# Highlights Length Distribution\n",
    "plt.subplot(1, 2, 2)\n",
    "plt.hist(data['highlights_length'], bins=50, color='salmon', alpha=0.7)\n",
    "plt.title(\"Highlights Length Distribution\")\n",
    "plt.xlabel(\"Length\")\n",
    "plt.ylabel(\"Frequency\")\n",
    "\n",
    "plt.tight_layout()\n",
    "plt.show()"
   ]
  },
  {
   "cell_type": "markdown",
   "id": "d6dfc669-ec2d-42c6-9f08-c709e5ad22a0",
   "metadata": {},
   "source": [
    "### Preprocessing and Train-Test Split"
   ]
  },
  {
   "cell_type": "code",
   "execution_count": 21,
   "id": "ed342c51-a690-41f9-bc1b-b0e72f27fbe8",
   "metadata": {},
   "outputs": [
    {
     "name": "stdout",
     "output_type": "stream",
     "text": [
      "TF-IDF vectorizer saved!\n"
     ]
    }
   ],
   "source": [
    "from sklearn.feature_extraction.text import TfidfVectorizer\n",
    "\n",
    "# Create TF-IDF vectors for articles\n",
    "vectorizer = TfidfVectorizer(max_features=5000)\n",
    "X = vectorizer.fit_transform(data['article'])  # Input features\n",
    "y = data['highlights']  # Labels (summaries)\n",
    "\n",
    "# Save the TF-IDF vectorizer for reuse\n",
    "import joblib\n",
    "joblib.dump(vectorizer, \"tfidf_vectorizer.pkl\")\n",
    "print(\"TF-IDF vectorizer saved!\")"
   ]
  },
  {
   "cell_type": "markdown",
   "id": "2dea43eb-5e76-4601-8a87-6e6a3d2235e6",
   "metadata": {},
   "source": [
    "### Text Summarization Models"
   ]
  },
  {
   "cell_type": "markdown",
   "id": "ab64aba9-9254-4c19-bbff-516c146d2977",
   "metadata": {},
   "source": [
    "#### TextRank Implementation\n",
    "- A graph-based algorithm for extractive summarization."
   ]
  },
  {
   "cell_type": "code",
   "execution_count": null,
   "id": "a771f16b-c155-4795-b3ce-1ea797da4414",
   "metadata": {},
   "outputs": [],
   "source": [
    "from sklearn.metrics.pairwise import cosine_similarity\n",
    "import networkx as nx\n",
    "\n",
    "# Use TF-IDF vectors to calculate similarity matrix\n",
    "similarity_matrix = cosine_similarity(X)\n",
    "\n",
    "# Create a graph and rank sentences\n",
    "graph = nx.from_numpy_array(similarity_matrix)\n",
    "scores = nx.pagerank(graph)\n",
    "\n",
    "# Rank and extract top sentences\n",
    "ranked_sentences = sorted(((score, idx) for idx, score in scores.items()), reverse=True)\n",
    "\n",
    "# Example: Summarize the first article\n",
    "article_idx = 0\n",
    "top_n = 3  # Number of sentences to extract for summary\n",
    "article = data.iloc[article_idx]['article'].split('.')\n",
    "summary = '. '.join([article[ranked_sentences[i][1]] for i in range(top_n)])\n",
    "\n",
    "print(\"\\nTextRank Summary for Article 1:\")\n",
    "print(summary)\n"
   ]
  },
  {
   "cell_type": "code",
   "execution_count": null,
   "id": "74bbae83-4847-46f5-a1da-ced52da37d9d",
   "metadata": {},
   "outputs": [],
   "source": []
  },
  {
   "cell_type": "code",
   "execution_count": null,
   "id": "fc41d8ac-1d6d-412a-9524-d006cfaaec29",
   "metadata": {},
   "outputs": [],
   "source": []
  },
  {
   "cell_type": "code",
   "execution_count": null,
   "id": "e28a5cce-7851-4fc7-9298-d2c1d056fa46",
   "metadata": {},
   "outputs": [],
   "source": []
  },
  {
   "cell_type": "code",
   "execution_count": null,
   "id": "780464af-491c-48e5-9f2a-7cf48ee319f9",
   "metadata": {},
   "outputs": [],
   "source": []
  },
  {
   "cell_type": "code",
   "execution_count": null,
   "id": "ba111174-d35a-4df0-a2d0-a398e0b9b090",
   "metadata": {},
   "outputs": [],
   "source": []
  },
  {
   "cell_type": "code",
   "execution_count": null,
   "id": "662633e5-bfa7-4161-97a5-ed97aeb185cf",
   "metadata": {},
   "outputs": [],
   "source": []
  },
  {
   "cell_type": "code",
   "execution_count": null,
   "id": "01cd1cb9-2b26-4f5f-bb1d-d94cd243e3c0",
   "metadata": {},
   "outputs": [],
   "source": []
  }
 ],
 "metadata": {
  "kernelspec": {
   "display_name": "Python 3 (ipykernel)",
   "language": "python",
   "name": "python3"
  },
  "language_info": {
   "codemirror_mode": {
    "name": "ipython",
    "version": 3
   },
   "file_extension": ".py",
   "mimetype": "text/x-python",
   "name": "python",
   "nbconvert_exporter": "python",
   "pygments_lexer": "ipython3",
   "version": "3.12.4"
  }
 },
 "nbformat": 4,
 "nbformat_minor": 5
}
